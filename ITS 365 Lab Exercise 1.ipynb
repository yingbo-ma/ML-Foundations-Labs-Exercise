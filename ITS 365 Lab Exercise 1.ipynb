{
 "cells": [
  {
   "cell_type": "markdown",
   "id": "75529eeb-b8de-4e2c-a682-56a6442008fb",
   "metadata": {},
   "source": [
    "### Task 1: Python Environment Setup"
   ]
  },
  {
   "cell_type": "markdown",
   "id": "d5d58162-9521-4686-8c06-072ffc480cb1",
   "metadata": {
    "jp-MarkdownHeadingCollapsed": true
   },
   "source": [
    "##### Step 1: Install Anaconda\n",
    "1. Go to this link and download the anaconda installer: https://www.anaconda.com/download/success. Choose the installer based on your laptop OS. Mac users need to verify their chip (Intel or Apple Silicon).\n",
    "2. Install Anaconda following the instructions of the installer. In \"Advanved Installation Options\", make sure you check \"Add Anaconda3 to my PATH environment variable\"."
   ]
  },
  {
   "cell_type": "markdown",
   "id": "ded48de6-d6f3-415a-a23e-1f095bc3cf49",
   "metadata": {
    "jp-MarkdownHeadingCollapsed": true
   },
   "source": [
    "##### Step 2: Verify your Anaconda installation\n",
    "1. For Windows users, click on the `start menu` and type `anaconda prompt`. Right click and run it as an administrator. For Mac and Linux users, search and run `terminal`.\n",
    "3. In the terminal, type `conda --version`, you should see the detailed information of the Anaconda version that was just installed on your laptop. Congratulations! You have successfully installed Anaconda on your laptop."
   ]
  },
  {
   "cell_type": "markdown",
   "id": "4ec88252-be3f-4f77-8d54-cc5a61f05b9d",
   "metadata": {},
   "source": [
    "##### Step 3: Using Anaconda to manage your Python virtual environments\n",
    "1. Using conda to manage Python virtual environments ensures easy installation of Python dependencies while maintaining compatibility across platforms. It also simplifies environment management with features like environment isolation, version control, and reproducibility.\n",
    "2. To see your current available Python environments, type `conda env list`.\n",
    "3. To create a new Python environment named \"its365\", with Python version of 3.8 pre-installed, type `conda create --name its365 python=3.8`\n",
    "4. To go to the newly created environment, type `conda activate its365`. Now you should see the string of `(its)` at the beginning of your terminal command lines.\n",
    "5. To exit the current environment, type `conda deactivate`. Now you should see the string of `(base)` at the beginning of your terminal command lines.\n",
    "6. To completely remove the newly created enviornment, type `conda env remove --name its365`."
   ]
  },
  {
   "cell_type": "markdown",
   "id": "19f90582-dd8f-40cf-aacc-751e3a1b8234",
   "metadata": {},
   "source": [
    "### Task 2: Getting Started with Python"
   ]
  },
  {
   "cell_type": "markdown",
   "id": "05ea10e0-9c34-4d66-a7db-0c8a7d0993c7",
   "metadata": {},
   "source": [
    "##### Step 1: Install Jupyter Notebook\n",
    "1. Install Jupyter Notebook in a Python environment. First activate the environment by typing `conda activate its365`. After the environment is activated, install Jupyter Notebook by typing `pip install notebook`. `pip` is the default package manager for Python. It allows you to install, update, and remove Python packages that are hosted on the Python Package Index (PyPI).\n",
    "2. To run notebook, type `jupyter notebook`. If you are not familiar with Jupyter Notebook, check this tutorial: https://www.codecademy.com/article/how-to-use-jupyter-notebooks."
   ]
  },
  {
   "cell_type": "markdown",
   "id": "06702205-9d58-4766-9b4b-567e1cfdd457",
   "metadata": {},
   "source": [
    "##### Step 2: Strings. \n",
    "This step is to familiarize you with Python's basic string operations. These methods are Python built-in functions so you do not need to install other packages."
   ]
  },
  {
   "cell_type": "code",
   "execution_count": 42,
   "id": "2c191fb2-8b81-48c4-aa0c-21a17ec31a77",
   "metadata": {},
   "outputs": [],
   "source": [
    "my_string = 'Python strings are COOL !'"
   ]
  },
  {
   "cell_type": "code",
   "execution_count": 16,
   "id": "bae68e3f-39b4-4d3d-b524-6fb05ae9fcf2",
   "metadata": {},
   "outputs": [],
   "source": [
    "# In this cell, use type() method to print out the data type of the variable my_string."
   ]
  },
  {
   "cell_type": "code",
   "execution_count": 17,
   "id": "66b6dd05-c57f-4aec-a683-b1c47a31c3c8",
   "metadata": {},
   "outputs": [],
   "source": [
    "# In this cell, use len() method to print out the length of the variable my_string."
   ]
  },
  {
   "cell_type": "code",
   "execution_count": 25,
   "id": "c72f1c9a-40e1-4c7c-91b8-8b68a38692d1",
   "metadata": {},
   "outputs": [],
   "source": [
    "# In this cell, use lower() method to lowercase all items in my_string."
   ]
  },
  {
   "cell_type": "code",
   "execution_count": 26,
   "id": "7a615056-8c6f-4841-82df-394bae52a61d",
   "metadata": {},
   "outputs": [],
   "source": [
    "# In this cell, use upper() method to uppercase all items in my_string."
   ]
  },
  {
   "cell_type": "code",
   "execution_count": 20,
   "id": "3f602056-d8ae-46f2-9294-6a2b4d655eb1",
   "metadata": {},
   "outputs": [],
   "source": [
    "# In this cell, use strip() method to remove any leading, and trailing whitespaces in my_string."
   ]
  },
  {
   "cell_type": "code",
   "execution_count": 22,
   "id": "705c5d3f-594b-4f15-b1ab-e7ead4d75aea",
   "metadata": {},
   "outputs": [],
   "source": [
    "# In this cell, use split() method to split my_string into a list where each word is a list item."
   ]
  },
  {
   "cell_type": "code",
   "execution_count": 28,
   "id": "0065120e-e15b-4015-b3d1-ef87bc7960da",
   "metadata": {},
   "outputs": [],
   "source": [
    "word_list = ['Python', 'strings', 'are', 'COOL', '!']"
   ]
  },
  {
   "cell_type": "code",
   "execution_count": 43,
   "id": "907a2c04-5337-4e1f-8b58-46ab7a3ec385",
   "metadata": {},
   "outputs": [],
   "source": [
    "# In this cell, use join() method to convert word_list to my_string."
   ]
  }
 ],
 "metadata": {
  "kernelspec": {
   "display_name": "Python 3 (ipykernel)",
   "language": "python",
   "name": "python3"
  },
  "language_info": {
   "codemirror_mode": {
    "name": "ipython",
    "version": 3
   },
   "file_extension": ".py",
   "mimetype": "text/x-python",
   "name": "python",
   "nbconvert_exporter": "python",
   "pygments_lexer": "ipython3",
   "version": "3.12.4"
  }
 },
 "nbformat": 4,
 "nbformat_minor": 5
}
