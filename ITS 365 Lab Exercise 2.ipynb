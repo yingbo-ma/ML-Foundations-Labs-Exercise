{
 "cells": [
  {
   "cell_type": "markdown",
   "id": "67abd1d2",
   "metadata": {},
   "source": [
    "### Numpy Basics and Tensor Operations Exercise"
   ]
  },
  {
   "cell_type": "markdown",
   "id": "7c26cf5e",
   "metadata": {},
   "source": [
    "#### Numpy is a fundamental library for numerical computing in Python. It is widely used in data science and machine learning. \n"
   ]
  },
  {
   "cell_type": "markdown",
   "id": "ac2e2e3c",
   "metadata": {},
   "source": [
    "Understanding numpy arrays and tensor operations is crucial for working with datasets, implementing machine learning algorithms, and optimizing model performance. In this exercise, you will:\n",
    "1. learn how to create and manipulate numpy arrays (tensors).\n",
    "2. Perform basic mathematical operations on tensors.\n",
    "3. Understand reshaping and matrix operations, which are essential for machine learning and deep learning."
   ]
  },
  {
   "cell_type": "markdown",
   "id": "5c97167f",
   "metadata": {},
   "source": [
    "#### Task 1: Convert a list to a numpy array."
   ]
  },
  {
   "cell_type": "code",
   "execution_count": 124,
   "id": "e6674491",
   "metadata": {},
   "outputs": [
    {
     "name": "stdout",
     "output_type": "stream",
     "text": [
      "None\n"
     ]
    }
   ],
   "source": [
    "import numpy as np\n",
    "\n",
    "initialList = [4, 5, 2, 6, 8]\n",
    "\n",
    "# Use np.array() method\n",
    "initialArray = None\n",
    "\n",
    "print(initialArray)"
   ]
  },
  {
   "cell_type": "markdown",
   "id": "ae04aa43",
   "metadata": {},
   "source": [
    "#### Task 2: Convert the variable _initialArray_ datatype from integer to float32. "
   ]
  },
  {
   "cell_type": "code",
   "execution_count": 125,
   "id": "75fb2c4e",
   "metadata": {},
   "outputs": [
    {
     "name": "stdout",
     "output_type": "stream",
     "text": [
      "None\n"
     ]
    }
   ],
   "source": [
    "# Use initialArray.astype() method\n",
    "convertedArray = None\n",
    "\n",
    "print(convertedArray)"
   ]
  },
  {
   "cell_type": "markdown",
   "id": "7be76829",
   "metadata": {},
   "source": [
    "#### Task 3: Convert a list of lists to a 2-dimensional numpy array."
   ]
  },
  {
   "cell_type": "code",
   "execution_count": 126,
   "id": "48688fc1",
   "metadata": {
    "scrolled": true
   },
   "outputs": [
    {
     "name": "stdout",
     "output_type": "stream",
     "text": [
      "None\n"
     ]
    }
   ],
   "source": [
    "listOfLists = [\n",
    "    [1, 2, 3],\n",
    "    [4, 4, 5],\n",
    "    [6, 2, 11]\n",
    "]\n",
    "\n",
    "# Use np.array method\n",
    "convertedArray = None\n",
    "\n",
    "print(convertedArray)"
   ]
  },
  {
   "cell_type": "markdown",
   "id": "eb82ea41",
   "metadata": {},
   "source": [
    "#### Task 4: Create a 1-dimensional array filled with zeros. The array length is 10."
   ]
  },
  {
   "cell_type": "code",
   "execution_count": 127,
   "id": "850f3a18",
   "metadata": {},
   "outputs": [
    {
     "name": "stdout",
     "output_type": "stream",
     "text": [
      "None\n"
     ]
    }
   ],
   "source": [
    "# Use np.zeros() method\n",
    "zeroArray = None\n",
    "\n",
    "print(zeroArray)"
   ]
  },
  {
   "cell_type": "markdown",
   "id": "b6ca323a",
   "metadata": {},
   "source": [
    "#### Task 5: Create a 2-dimensional array filled with ones. The array shape is 4 rows by 6 columns."
   ]
  },
  {
   "cell_type": "code",
   "execution_count": 128,
   "id": "b1f1117f",
   "metadata": {},
   "outputs": [
    {
     "name": "stdout",
     "output_type": "stream",
     "text": [
      "None\n"
     ]
    }
   ],
   "source": [
    "# Use np.ones() method\n",
    "onesArray = None\n",
    "\n",
    "print(onesArray)"
   ]
  },
  {
   "cell_type": "markdown",
   "id": "89a72469",
   "metadata": {},
   "source": [
    "#### Task 6: Create a 2-dimensional array filled with 42. The array shape is 3 rows by 3 columns."
   ]
  },
  {
   "cell_type": "code",
   "execution_count": 129,
   "id": "48f1ba1c",
   "metadata": {},
   "outputs": [
    {
     "name": "stdout",
     "output_type": "stream",
     "text": [
      "None\n"
     ]
    }
   ],
   "source": [
    "# Use np.full() method\n",
    "filledArray = None\n",
    "\n",
    "print(filledArray)"
   ]
  },
  {
   "cell_type": "markdown",
   "id": "9e20109a",
   "metadata": {},
   "source": [
    "#### Task 7: Create an array with values from 0 to 4, with an increment of 1."
   ]
  },
  {
   "cell_type": "code",
   "execution_count": 130,
   "id": "cbc11631",
   "metadata": {},
   "outputs": [
    {
     "name": "stdout",
     "output_type": "stream",
     "text": [
      "None\n"
     ]
    }
   ],
   "source": [
    "# Use np.arange() method\n",
    "sampleArray = None\n",
    "\n",
    "print(sampleArray)"
   ]
  },
  {
   "cell_type": "markdown",
   "id": "7b7f3268",
   "metadata": {},
   "source": [
    "#### Task 8: Create an array with values from 1 to 30, with an increment of 3."
   ]
  },
  {
   "cell_type": "code",
   "execution_count": 131,
   "id": "b4d87d64",
   "metadata": {},
   "outputs": [
    {
     "name": "stdout",
     "output_type": "stream",
     "text": [
      "None\n"
     ]
    }
   ],
   "source": [
    "# Use np.arange() method\n",
    "sampleArray = None\n",
    "\n",
    "print(sampleArray)"
   ]
  },
  {
   "cell_type": "markdown",
   "id": "de79436a",
   "metadata": {},
   "source": [
    "#### Task 9: Create a 1-dimensional array with 5 random values between 0 and 1"
   ]
  },
  {
   "cell_type": "code",
   "execution_count": 132,
   "id": "5dc36359",
   "metadata": {},
   "outputs": [
    {
     "name": "stdout",
     "output_type": "stream",
     "text": [
      "None\n"
     ]
    }
   ],
   "source": [
    "# Use np.random.rand() method\n",
    "sampleArray = None\n",
    "\n",
    "print(sampleArray)"
   ]
  },
  {
   "cell_type": "markdown",
   "id": "3ba7ae08",
   "metadata": {},
   "source": [
    "#### Task 10: Create a 2D array with 3 rows and 4 columns with values between 0 and 1"
   ]
  },
  {
   "cell_type": "code",
   "execution_count": 133,
   "id": "087bc0c9",
   "metadata": {},
   "outputs": [
    {
     "name": "stdout",
     "output_type": "stream",
     "text": [
      "None\n"
     ]
    }
   ],
   "source": [
    "# Use np.random.rand() method\n",
    "sampleArray = None\n",
    "\n",
    "print(sampleArray)"
   ]
  },
  {
   "cell_type": "markdown",
   "id": "0bc6e62b",
   "metadata": {},
   "source": [
    "#### Task 11: Create a 2-dimensional array with random integers between 1 and 10. The array shape is 2 rows by 3 columns."
   ]
  },
  {
   "cell_type": "code",
   "execution_count": 134,
   "id": "d324eb27",
   "metadata": {},
   "outputs": [
    {
     "name": "stdout",
     "output_type": "stream",
     "text": [
      "None\n"
     ]
    }
   ],
   "source": [
    "# Use np.random.randint() methhod\n",
    "sampleArray = None\n",
    "\n",
    "print(sampleArray)"
   ]
  },
  {
   "cell_type": "markdown",
   "id": "094111b4",
   "metadata": {},
   "source": [
    "#### Task 12: Transpose a 2-dimensional array."
   ]
  },
  {
   "cell_type": "code",
   "execution_count": 135,
   "id": "24efac79",
   "metadata": {},
   "outputs": [
    {
     "name": "stdout",
     "output_type": "stream",
     "text": [
      "None\n"
     ]
    }
   ],
   "source": [
    "# Use np.transpose() method\n",
    "initialArray = np.array([\n",
    "    [1, 2, 3],\n",
    "    [4, 5, 6]\n",
    "])\n",
    "\n",
    "transposedArray = None\n",
    "\n",
    "print(transposedArray)"
   ]
  },
  {
   "cell_type": "markdown",
   "id": "3e9dde14",
   "metadata": {},
   "source": [
    "#### Task 13: Array indexing. Given a 1-dimensional array, print out its first, third, last, and second last element."
   ]
  },
  {
   "cell_type": "code",
   "execution_count": 136,
   "id": "14559ee9",
   "metadata": {},
   "outputs": [
    {
     "name": "stdout",
     "output_type": "stream",
     "text": [
      "First element:  None \n",
      "\n",
      "Third element:  None \n",
      "\n",
      "Last element:  None \n",
      "\n",
      "Before last element:  None \n",
      "\n"
     ]
    }
   ],
   "source": [
    "initialArray = np.array([1, 3, 2, 5], dtype = 'float32')\n",
    "\n",
    "print(\"First element: \", None, \"\\n\")\n",
    "print(\"Third element: \", None, \"\\n\")\n",
    "print(\"Last element: \", None, \"\\n\")\n",
    "print(\"Before last element: \", None, \"\\n\")"
   ]
  },
  {
   "cell_type": "markdown",
   "id": "b1e10d87",
   "metadata": {},
   "source": [
    "#### Task 14: Array indexing. Given a 2-dimensional array, print out its first element in the first row, and the last element in the last row."
   ]
  },
  {
   "cell_type": "code",
   "execution_count": 137,
   "id": "e896db52",
   "metadata": {},
   "outputs": [
    {
     "name": "stdout",
     "output_type": "stream",
     "text": [
      "First element in the first row:  None \n",
      "\n",
      "Last element in the last row:  None \n",
      "\n"
     ]
    }
   ],
   "source": [
    "initialArray = np.array([\n",
    "    [1, 2, 3, 4],\n",
    "    [5, 6, 7, 8],\n",
    "    [9, 10, 11, 12]\n",
    "])\n",
    "\n",
    "print(\"First element in the first row: \", None, \"\\n\")\n",
    "print(\"Last element in the last row: \", None, \"\\n\")"
   ]
  },
  {
   "cell_type": "markdown",
   "id": "43dc68fb",
   "metadata": {},
   "source": [
    "#### Task 15: Array slicing. Given a 1-dimensional array, print out its:\n",
    "1. First 4 elements\n",
    "2. All elements after the index of 3\n",
    "3. All elements with even indeces\n",
    "4. All elements with uneven indeces"
   ]
  },
  {
   "cell_type": "code",
   "execution_count": 138,
   "id": "0e8a7336",
   "metadata": {},
   "outputs": [
    {
     "name": "stdout",
     "output_type": "stream",
     "text": [
      "First 4 elements:  None \n",
      "\n",
      "All elements after the index of 3:  None \n",
      "\n",
      "All elements with even indices:  None \n",
      "\n",
      "All elements with uneven indices:  None \n",
      "\n"
     ]
    }
   ],
   "source": [
    "initialArray = np.arange(15)\n",
    "\n",
    "print(\"First 4 elements: \", None, \"\\n\")\n",
    "print(\"All elements after the index of 3: \", None, \"\\n\")\n",
    "print(\"All elements with even indices: \", None, \"\\n\")\n",
    "print(\"All elements with uneven indices: \", None, \"\\n\")"
   ]
  },
  {
   "cell_type": "markdown",
   "id": "663de02e",
   "metadata": {},
   "source": [
    "#### Task 16: Basic operations. Given two 2-dimensional arrays, print out their:\n",
    "1. The dot product\n",
    "2. The element-wise addition\n",
    "3. The element-wise mulplication\n",
    "4. The sum of all elements"
   ]
  },
  {
   "cell_type": "code",
   "execution_count": 139,
   "id": "84dc19c3",
   "metadata": {},
   "outputs": [
    {
     "name": "stdout",
     "output_type": "stream",
     "text": [
      "The dot product of the two arrays is:  None \n",
      "\n",
      "The element-wise sum of the two arrays is:  None \n",
      "\n",
      "The element-wise multiplication of the two arrays is:  None \n",
      "\n"
     ]
    }
   ],
   "source": [
    "arr_1 = np.array([\n",
    "    [1, 2],\n",
    "    [3, 4]\n",
    "])\n",
    "\n",
    "arr_2 = np.array([\n",
    "    [5, 6],\n",
    "    [7, 8]\n",
    "])\n",
    "\n",
    "# Use np.dot() method to calculate dot product\n",
    "dot_product = None\n",
    "print(\"The dot product of the two arrays is: \", dot_product, \"\\n\")\n",
    "\n",
    "# Use np.add() method to calculate the element-wise sum of all elements\n",
    "sum_elements = None\n",
    "print(\"The element-wise sum of the two arrays is: \", sum_elements, \"\\n\")\n",
    "\n",
    "# Use * to calculate the element-wise sum of all elements\n",
    "product_elements = None\n",
    "print(\"The element-wise multiplication of the two arrays is: \", product_elements, \"\\n\")"
   ]
  },
  {
   "cell_type": "markdown",
   "id": "03782edc",
   "metadata": {},
   "source": [
    "#### Task 17: Basic operations. Given two 1-dimensional arrays, print out the results of :\n",
    "1. Stacking two 1-dimensional arrays vertically\n",
    "2. Stacking two 1-dimensional arrays horizontally"
   ]
  },
  {
   "cell_type": "code",
   "execution_count": 140,
   "id": "e13341ca",
   "metadata": {},
   "outputs": [
    {
     "name": "stdout",
     "output_type": "stream",
     "text": [
      "The vertically stacked array of the given two arrays is:  None \n",
      "\n",
      "The element-wise sum of the two arrays is:  None \n",
      "\n"
     ]
    }
   ],
   "source": [
    "arr_1 = np.array([1, 2, 3])\n",
    "\n",
    "arr_2 = np.array([4, 5, 6])\n",
    "\n",
    "# Use np.vstack() method to stack two arrays vertically\n",
    "dot_product = None\n",
    "print(\"The vertically stacked array of the given two arrays is: \", dot_product, \"\\n\")\n",
    "\n",
    "# Use np.add() method to calculate the element-wise sum of all elements\n",
    "sum_elements = None\n",
    "print(\"The element-wise sum of the two arrays is: \", sum_elements, \"\\n\")"
   ]
  },
  {
   "cell_type": "code",
   "execution_count": null,
   "id": "cc0676bd",
   "metadata": {},
   "outputs": [],
   "source": []
  }
 ],
 "metadata": {
  "kernelspec": {
   "display_name": "Python 3 (ipykernel)",
   "language": "python",
   "name": "python3"
  },
  "language_info": {
   "codemirror_mode": {
    "name": "ipython",
    "version": 3
   },
   "file_extension": ".py",
   "mimetype": "text/x-python",
   "name": "python",
   "nbconvert_exporter": "python",
   "pygments_lexer": "ipython3",
   "version": "3.7.16"
  }
 },
 "nbformat": 4,
 "nbformat_minor": 5
}
